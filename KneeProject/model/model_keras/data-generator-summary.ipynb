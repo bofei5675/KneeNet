{
 "cells": [
  {
   "cell_type": "code",
   "execution_count": 1,
   "metadata": {},
   "outputs": [],
   "source": [
    "import pandas as pd\n",
    "import numpy as np\n",
    "import os \n",
    "import sys\n",
    "import time"
   ]
  },
  {
   "cell_type": "code",
   "execution_count": 2,
   "metadata": {},
   "outputs": [],
   "source": [
    "HOME_PATH = '/gpfs/data/denizlab/Users/bz1030'\n",
    "data_path = 'data/OAI_processed/'"
   ]
  },
  {
   "cell_type": "code",
   "execution_count": 4,
   "metadata": {},
   "outputs": [],
   "source": [
    "file_names = os.listdir(os.path.join(HOME_PATH,data_path))\n",
    "file_names = [i for i in file_names if '.csv' in i]"
   ]
  },
  {
   "cell_type": "code",
   "execution_count": 6,
   "metadata": {},
   "outputs": [],
   "source": [
    "df = None\n",
    "for file in file_names:\n",
    "    if df is None:\n",
    "        df = pd.read_csv(os.path.join(HOME_PATH,data_path,file))\n",
    "    else:\n",
    "        temp = pd.read_csv(os.path.join(HOME_PATH,data_path,file))\n",
    "        df = df.append(temp)"
   ]
  },
  {
   "cell_type": "code",
   "execution_count": 10,
   "metadata": {},
   "outputs": [],
   "source": [
    "df['Month'] = [i.split('_')[1] for i in df['File Name'].tolist()] "
   ]
  },
  {
   "cell_type": "code",
   "execution_count": 12,
   "metadata": {},
   "outputs": [
    {
     "data": {
      "text/plain": [
       "(45818, 11)"
      ]
     },
     "execution_count": 12,
     "metadata": {},
     "output_type": "execute_result"
    }
   ],
   "source": [
    "df.shape"
   ]
  },
  {
   "cell_type": "code",
   "execution_count": 11,
   "metadata": {},
   "outputs": [
    {
     "data": {
      "text/html": [
       "<div>\n",
       "<style scoped>\n",
       "    .dataframe tbody tr th:only-of-type {\n",
       "        vertical-align: middle;\n",
       "    }\n",
       "\n",
       "    .dataframe tbody tr th {\n",
       "        vertical-align: top;\n",
       "    }\n",
       "\n",
       "    .dataframe thead th {\n",
       "        text-align: right;\n",
       "    }\n",
       "</style>\n",
       "<table border=\"1\" class=\"dataframe\">\n",
       "  <thead>\n",
       "    <tr style=\"text-align: right;\">\n",
       "      <th></th>\n",
       "      <th>File Name</th>\n",
       "      <th>Folder</th>\n",
       "      <th>Participant ID</th>\n",
       "      <th>Study Date</th>\n",
       "      <th>Bar Code</th>\n",
       "      <th>Description</th>\n",
       "      <th>Image Size</th>\n",
       "      <th>KLG</th>\n",
       "      <th>Method</th>\n",
       "      <th>IsSuccessful</th>\n",
       "      <th>Month</th>\n",
       "    </tr>\n",
       "  </thead>\n",
       "  <tbody>\n",
       "    <tr>\n",
       "      <th>0</th>\n",
       "      <td>9000296_96m_LEFT_KNEE.hdf5</td>\n",
       "      <td>/gpfs/data/denizlab/Datasets/OAI_original/96m/...</td>\n",
       "      <td>9000296</td>\n",
       "      <td>20120720</td>\n",
       "      <td>16604011302</td>\n",
       "      <td>LEFT</td>\n",
       "      <td>1024x1024</td>\n",
       "      <td>3.0</td>\n",
       "      <td>mix</td>\n",
       "      <td>1</td>\n",
       "      <td>96m</td>\n",
       "    </tr>\n",
       "    <tr>\n",
       "      <th>1</th>\n",
       "      <td>9000296_96m_RIGHT_KNEE.hdf5</td>\n",
       "      <td>/gpfs/data/denizlab/Datasets/OAI_original/96m/...</td>\n",
       "      <td>9000296</td>\n",
       "      <td>20120720</td>\n",
       "      <td>16604011302</td>\n",
       "      <td>RIGHT</td>\n",
       "      <td>1024x1024</td>\n",
       "      <td>2.0</td>\n",
       "      <td>mix</td>\n",
       "      <td>1</td>\n",
       "      <td>96m</td>\n",
       "    </tr>\n",
       "    <tr>\n",
       "      <th>2</th>\n",
       "      <td>9000798_96m_LEFT_KNEE.hdf5</td>\n",
       "      <td>/gpfs/data/denizlab/Datasets/OAI_original/96m/...</td>\n",
       "      <td>9000798</td>\n",
       "      <td>20120928</td>\n",
       "      <td>16603896401</td>\n",
       "      <td>LEFT</td>\n",
       "      <td>1024x1024</td>\n",
       "      <td>4.0</td>\n",
       "      <td>mix</td>\n",
       "      <td>1</td>\n",
       "      <td>96m</td>\n",
       "    </tr>\n",
       "    <tr>\n",
       "      <th>3</th>\n",
       "      <td>9000798_96m_RIGHT_KNEE.hdf5</td>\n",
       "      <td>/gpfs/data/denizlab/Datasets/OAI_original/96m/...</td>\n",
       "      <td>9000798</td>\n",
       "      <td>20120928</td>\n",
       "      <td>16603896401</td>\n",
       "      <td>RIGHT</td>\n",
       "      <td>1024x1024</td>\n",
       "      <td>1.0</td>\n",
       "      <td>mix</td>\n",
       "      <td>1</td>\n",
       "      <td>96m</td>\n",
       "    </tr>\n",
       "    <tr>\n",
       "      <th>4</th>\n",
       "      <td>9001897_96m_LEFT_KNEE.hdf5</td>\n",
       "      <td>/gpfs/data/denizlab/Datasets/OAI_original/96m/...</td>\n",
       "      <td>9001897</td>\n",
       "      <td>20130116</td>\n",
       "      <td>16603998101</td>\n",
       "      <td>LEFT</td>\n",
       "      <td>1024x1024</td>\n",
       "      <td>0.0</td>\n",
       "      <td>mix</td>\n",
       "      <td>1</td>\n",
       "      <td>96m</td>\n",
       "    </tr>\n",
       "  </tbody>\n",
       "</table>\n",
       "</div>"
      ],
      "text/plain": [
       "                     File Name  \\\n",
       "0   9000296_96m_LEFT_KNEE.hdf5   \n",
       "1  9000296_96m_RIGHT_KNEE.hdf5   \n",
       "2   9000798_96m_LEFT_KNEE.hdf5   \n",
       "3  9000798_96m_RIGHT_KNEE.hdf5   \n",
       "4   9001897_96m_LEFT_KNEE.hdf5   \n",
       "\n",
       "                                              Folder Participant ID  \\\n",
       "0  /gpfs/data/denizlab/Datasets/OAI_original/96m/...        9000296   \n",
       "1  /gpfs/data/denizlab/Datasets/OAI_original/96m/...        9000296   \n",
       "2  /gpfs/data/denizlab/Datasets/OAI_original/96m/...        9000798   \n",
       "3  /gpfs/data/denizlab/Datasets/OAI_original/96m/...        9000798   \n",
       "4  /gpfs/data/denizlab/Datasets/OAI_original/96m/...        9001897   \n",
       "\n",
       "  Study Date     Bar Code Description Image Size  KLG Method IsSuccessful  \\\n",
       "0   20120720  16604011302        LEFT  1024x1024  3.0    mix            1   \n",
       "1   20120720  16604011302       RIGHT  1024x1024  2.0    mix            1   \n",
       "2   20120928  16603896401        LEFT  1024x1024  4.0    mix            1   \n",
       "3   20120928  16603896401       RIGHT  1024x1024  1.0    mix            1   \n",
       "4   20130116  16603998101        LEFT  1024x1024  0.0    mix            1   \n",
       "\n",
       "  Month  \n",
       "0   96m  \n",
       "1   96m  \n",
       "2   96m  \n",
       "3   96m  \n",
       "4   96m  "
      ]
     },
     "execution_count": 11,
     "metadata": {},
     "output_type": "execute_result"
    }
   ],
   "source": [
    "df.head()"
   ]
  },
  {
   "cell_type": "code",
   "execution_count": 13,
   "metadata": {},
   "outputs": [],
   "source": [
    "df = df.dropna()"
   ]
  },
  {
   "cell_type": "code",
   "execution_count": 15,
   "metadata": {},
   "outputs": [],
   "source": [
    "output = 'summary.csv'\n",
    "df.to_csv(os.path.join(HOME_PATH,data_path,output),index = False)"
   ]
  },
  {
   "cell_type": "code",
   "execution_count": 14,
   "metadata": {},
   "outputs": [
    {
     "data": {
      "text/plain": [
       "(44865, 11)"
      ]
     },
     "execution_count": 14,
     "metadata": {},
     "output_type": "execute_result"
    }
   ],
   "source": [
    "df.shape"
   ]
  },
  {
   "cell_type": "code",
   "execution_count": 5,
   "metadata": {},
   "outputs": [
    {
     "data": {
      "text/plain": [
       "['summary_96m.csv',\n",
       " 'summary_12m.csv',\n",
       " 'summary_36m.csv',\n",
       " 'summary_72m.csv',\n",
       " 'summary_18m.csv',\n",
       " 'summary_24m.csv',\n",
       " 'summary_48m.csv',\n",
       " 'summary_30m.csv',\n",
       " 'summary_00m.csv']"
      ]
     },
     "execution_count": 5,
     "metadata": {},
     "output_type": "execute_result"
    }
   ],
   "source": [
    "file_names"
   ]
  }
 ],
 "metadata": {
  "kernelspec": {
   "display_name": "Python 3",
   "language": "python",
   "name": "python3"
  },
  "language_info": {
   "codemirror_mode": {
    "name": "ipython",
    "version": 3
   },
   "file_extension": ".py",
   "mimetype": "text/x-python",
   "name": "python",
   "nbconvert_exporter": "python",
   "pygments_lexer": "ipython3",
   "version": "3.6.6"
  }
 },
 "nbformat": 4,
 "nbformat_minor": 2
}
