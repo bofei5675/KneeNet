{
 "cells": [
  {
   "cell_type": "code",
   "execution_count": 71,
   "metadata": {},
   "outputs": [],
   "source": [
    "import argparse\n",
    "import pandas as pd\n",
    "import os\n",
    "from pathlib import Path\n",
    "import numpy as np\n",
    "import h5py \n"
   ]
  },
  {
   "cell_type": "code",
   "execution_count": 58,
   "metadata": {},
   "outputs": [],
   "source": [
    "HOME_PATH = '/gpfs/data/denizlab/Users/bz1030/data/OAI_processed/'"
   ]
  },
  {
   "cell_type": "code",
   "execution_count": 67,
   "metadata": {},
   "outputs": [
    {
     "name": "stdout",
     "output_type": "stream",
     "text": [
      "Total images 44865\n"
     ]
    }
   ],
   "source": [
    "summary_path = os.path.join(HOME_PATH,'summary.csv')\n",
    "df = pd.read_csv(summary_path)\n",
    "print('Total images {}'.format(df.shape[0]))"
   ]
  },
  {
   "cell_type": "code",
   "execution_count": 62,
   "metadata": {},
   "outputs": [],
   "source": [
    "hdf5_path = os.path.join(HOME_PATH,'mix')"
   ]
  },
  {
   "cell_type": "code",
   "execution_count": 66,
   "metadata": {},
   "outputs": [
    {
     "data": {
      "text/plain": [
       "45952"
      ]
     },
     "execution_count": 66,
     "metadata": {},
     "output_type": "execute_result"
    }
   ],
   "source": [
    "count_hdf5 = 0\n",
    "for each in os.listdir(hdf5_path):\n",
    "    count_hdf5 += len(os.listdir(os.path.join(hdf5_path,each)))\n",
    "count_hdf5"
   ]
  },
  {
   "cell_type": "code",
   "execution_count": 44,
   "metadata": {},
   "outputs": [
    {
     "name": "stdout",
     "output_type": "stream",
     "text": [
      "Keys: KeysView(<HDF5 file \"9000099_00m_LEFT_KNEE.hdf5\" (mode r)>)\n"
     ]
    }
   ],
   "source": [
    "filename ='/gpfs/data/denizlab/Users/bz1030/data/OAI_processed/mix/00m/9000099_00m_LEFT_KNEE.hdf5'\n",
    "f = h5py.File(filename, 'r')\n",
    "\n",
    "# List all groups\n",
    "print(\"Keys: %s\" % f.keys())\n",
    "a_group_key = list(f.keys())\n",
    "\n",
    "# Get the data\n"
   ]
  },
  {
   "cell_type": "code",
   "execution_count": 73,
   "metadata": {},
   "outputs": [],
   "source": [
    "img = read_hdf5(filename)"
   ]
  },
  {
   "cell_type": "code",
   "execution_count": 72,
   "metadata": {},
   "outputs": [],
   "source": [
    "def read_hdf5(file_path):\n",
    "    f = h5py.File(file_path, 'r')\n",
    "    img = list(f['data'])\n",
    "    return np.stack(img,axis=0)\n",
    "    "
   ]
  },
  {
   "cell_type": "code",
   "execution_count": 78,
   "metadata": {},
   "outputs": [
    {
     "data": {
      "text/html": [
       "<div>\n",
       "<style scoped>\n",
       "    .dataframe tbody tr th:only-of-type {\n",
       "        vertical-align: middle;\n",
       "    }\n",
       "\n",
       "    .dataframe tbody tr th {\n",
       "        vertical-align: top;\n",
       "    }\n",
       "\n",
       "    .dataframe thead th {\n",
       "        text-align: right;\n",
       "    }\n",
       "</style>\n",
       "<table border=\"1\" class=\"dataframe\">\n",
       "  <thead>\n",
       "    <tr style=\"text-align: right;\">\n",
       "      <th></th>\n",
       "      <th>File Name</th>\n",
       "      <th>Folder</th>\n",
       "      <th>Participant ID</th>\n",
       "      <th>Study Date</th>\n",
       "      <th>Bar Code</th>\n",
       "      <th>Description</th>\n",
       "      <th>Image Size</th>\n",
       "      <th>KLG</th>\n",
       "      <th>Method</th>\n",
       "      <th>IsSuccessful</th>\n",
       "      <th>Month</th>\n",
       "    </tr>\n",
       "  </thead>\n",
       "  <tbody>\n",
       "    <tr>\n",
       "      <th>0</th>\n",
       "      <td>9000296_96m_LEFT_KNEE.hdf5</td>\n",
       "      <td>/gpfs/data/denizlab/Datasets/OAI_original/96m/...</td>\n",
       "      <td>9000296</td>\n",
       "      <td>20120720</td>\n",
       "      <td>16604011302</td>\n",
       "      <td>LEFT</td>\n",
       "      <td>1024x1024</td>\n",
       "      <td>3.0</td>\n",
       "      <td>mix</td>\n",
       "      <td>1</td>\n",
       "      <td>96m</td>\n",
       "    </tr>\n",
       "    <tr>\n",
       "      <th>1</th>\n",
       "      <td>9000296_96m_RIGHT_KNEE.hdf5</td>\n",
       "      <td>/gpfs/data/denizlab/Datasets/OAI_original/96m/...</td>\n",
       "      <td>9000296</td>\n",
       "      <td>20120720</td>\n",
       "      <td>16604011302</td>\n",
       "      <td>RIGHT</td>\n",
       "      <td>1024x1024</td>\n",
       "      <td>2.0</td>\n",
       "      <td>mix</td>\n",
       "      <td>1</td>\n",
       "      <td>96m</td>\n",
       "    </tr>\n",
       "    <tr>\n",
       "      <th>2</th>\n",
       "      <td>9000798_96m_LEFT_KNEE.hdf5</td>\n",
       "      <td>/gpfs/data/denizlab/Datasets/OAI_original/96m/...</td>\n",
       "      <td>9000798</td>\n",
       "      <td>20120928</td>\n",
       "      <td>16603896401</td>\n",
       "      <td>LEFT</td>\n",
       "      <td>1024x1024</td>\n",
       "      <td>4.0</td>\n",
       "      <td>mix</td>\n",
       "      <td>1</td>\n",
       "      <td>96m</td>\n",
       "    </tr>\n",
       "    <tr>\n",
       "      <th>3</th>\n",
       "      <td>9000798_96m_RIGHT_KNEE.hdf5</td>\n",
       "      <td>/gpfs/data/denizlab/Datasets/OAI_original/96m/...</td>\n",
       "      <td>9000798</td>\n",
       "      <td>20120928</td>\n",
       "      <td>16603896401</td>\n",
       "      <td>RIGHT</td>\n",
       "      <td>1024x1024</td>\n",
       "      <td>1.0</td>\n",
       "      <td>mix</td>\n",
       "      <td>1</td>\n",
       "      <td>96m</td>\n",
       "    </tr>\n",
       "    <tr>\n",
       "      <th>4</th>\n",
       "      <td>9001897_96m_LEFT_KNEE.hdf5</td>\n",
       "      <td>/gpfs/data/denizlab/Datasets/OAI_original/96m/...</td>\n",
       "      <td>9001897</td>\n",
       "      <td>20130116</td>\n",
       "      <td>16603998101</td>\n",
       "      <td>LEFT</td>\n",
       "      <td>1024x1024</td>\n",
       "      <td>0.0</td>\n",
       "      <td>mix</td>\n",
       "      <td>1</td>\n",
       "      <td>96m</td>\n",
       "    </tr>\n",
       "  </tbody>\n",
       "</table>\n",
       "</div>"
      ],
      "text/plain": [
       "                     File Name  \\\n",
       "0   9000296_96m_LEFT_KNEE.hdf5   \n",
       "1  9000296_96m_RIGHT_KNEE.hdf5   \n",
       "2   9000798_96m_LEFT_KNEE.hdf5   \n",
       "3  9000798_96m_RIGHT_KNEE.hdf5   \n",
       "4   9001897_96m_LEFT_KNEE.hdf5   \n",
       "\n",
       "                                              Folder  Participant ID  \\\n",
       "0  /gpfs/data/denizlab/Datasets/OAI_original/96m/...         9000296   \n",
       "1  /gpfs/data/denizlab/Datasets/OAI_original/96m/...         9000296   \n",
       "2  /gpfs/data/denizlab/Datasets/OAI_original/96m/...         9000798   \n",
       "3  /gpfs/data/denizlab/Datasets/OAI_original/96m/...         9000798   \n",
       "4  /gpfs/data/denizlab/Datasets/OAI_original/96m/...         9001897   \n",
       "\n",
       "   Study Date     Bar Code Description Image Size  KLG Method  IsSuccessful  \\\n",
       "0    20120720  16604011302        LEFT  1024x1024  3.0    mix             1   \n",
       "1    20120720  16604011302       RIGHT  1024x1024  2.0    mix             1   \n",
       "2    20120928  16603896401        LEFT  1024x1024  4.0    mix             1   \n",
       "3    20120928  16603896401       RIGHT  1024x1024  1.0    mix             1   \n",
       "4    20130116  16603998101        LEFT  1024x1024  0.0    mix             1   \n",
       "\n",
       "  Month  \n",
       "0   96m  \n",
       "1   96m  \n",
       "2   96m  \n",
       "3   96m  \n",
       "4   96m  "
      ]
     },
     "execution_count": 78,
     "metadata": {},
     "output_type": "execute_result"
    }
   ],
   "source": [
    "df.head()"
   ]
  },
  {
   "cell_type": "code",
   "execution_count": 100,
   "metadata": {},
   "outputs": [],
   "source": [
    "HOME_PATH = '/gpfs/data/denizlab/Users/bz1030/data/OAI_processed/mix/'\n",
    "def image_generator(summary, home_path,batch_size = 64):\n",
    "    indexs = summary.index.tolist()\n",
    "    while True:\n",
    "        # Select files (paths/indices) for the batch\n",
    "        batch_indexs = np.random.choice(indexs,size=batch_size)\n",
    "        batch_input = []\n",
    "        batch_output = [] \n",
    "\n",
    "        # Read in each input, perform preprocessing and get labels\n",
    "        print(len(batch_indexs))\n",
    "        for row in batch_indexs:\n",
    "            row = summary.loc[row]\n",
    "            file_name = row['File Name']\n",
    "            month = row['Month']\n",
    "            label = row['KLG']\n",
    "            file_path = os.path.join(home_path,month,file_name)\n",
    "            img = read_hdf5(file_path)\n",
    "            batch_input.append(img)\n",
    "            batch_output.append(label)\n",
    "        # Return a tuple of (input,output) to feed the network\n",
    "\n",
    "        batch_x = np.stack(batch_input,axis = 0)\n",
    "        batch_y = np.stack(batch_output,axis = 0)\n",
    "        yield( batch_x, batch_y )"
   ]
  },
  {
   "cell_type": "code",
   "execution_count": 101,
   "metadata": {},
   "outputs": [],
   "source": [
    "a = image_generator(df,HOME_PATH)"
   ]
  },
  {
   "cell_type": "code",
   "execution_count": 102,
   "metadata": {},
   "outputs": [
    {
     "name": "stdout",
     "output_type": "stream",
     "text": [
      "64\n"
     ]
    }
   ],
   "source": [
    "x,y = next(a)"
   ]
  },
  {
   "cell_type": "code",
   "execution_count": 103,
   "metadata": {},
   "outputs": [
    {
     "data": {
      "text/plain": [
       "(64, 1024, 1024)"
      ]
     },
     "execution_count": 103,
     "metadata": {},
     "output_type": "execute_result"
    }
   ],
   "source": [
    "x.shape"
   ]
  },
  {
   "cell_type": "code",
   "execution_count": 104,
   "metadata": {},
   "outputs": [
    {
     "data": {
      "text/plain": [
       "(64,)"
      ]
     },
     "execution_count": 104,
     "metadata": {},
     "output_type": "execute_result"
    }
   ],
   "source": [
    "y.shape"
   ]
  }
 ],
 "metadata": {
  "kernelspec": {
   "display_name": "Python 3",
   "language": "python",
   "name": "python3"
  },
  "language_info": {
   "codemirror_mode": {
    "name": "ipython",
    "version": 3
   },
   "file_extension": ".py",
   "mimetype": "text/x-python",
   "name": "python",
   "nbconvert_exporter": "python",
   "pygments_lexer": "ipython3",
   "version": "3.6.6"
  }
 },
 "nbformat": 4,
 "nbformat_minor": 2
}
